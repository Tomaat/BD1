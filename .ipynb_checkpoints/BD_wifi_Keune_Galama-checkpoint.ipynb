{
 "cells": [
  {
   "cell_type": "markdown",
   "metadata": {},
   "source": [
    "# Applied Mechanisms and Big Data\n",
    "### Assignment 1: wifi\n",
    "##### Ysbrand Galama, 10262067\n",
    "##### Koen Keune, 10003527\n",
    "\n"
   ]
  },
  {
   "cell_type": "markdown",
   "metadata": {
    "collapsed": true
   },
   "source": [
    "## 0.1"
   ]
  },
  {
   "cell_type": "code",
   "execution_count": 22,
   "metadata": {
    "collapsed": false
   },
   "outputs": [
    {
     "name": "stdout",
     "output_type": "stream",
     "text": [
      "Populating the interactive namespace from numpy and matplotlib\n"
     ]
    },
    {
     "name": "stderr",
     "output_type": "stream",
     "text": [
      "WARNING: pylab import has clobbered these variables: ['f']\n",
      "`%matplotlib` prevents importing * from pylab and numpy\n"
     ]
    }
   ],
   "source": [
    "%pylab inline\n",
    "random.seed(1)"
   ]
  },
  {
   "cell_type": "markdown",
   "metadata": {},
   "source": [
    "## 0.2\n",
    "\n",
    "$ P_r = P_t + 20 \\times ^{10}\\log \\left( \\frac{c}{4\\pi f r} \\right) $\n",
    "\n",
    "### a"
   ]
  },
  {
   "cell_type": "code",
   "execution_count": 23,
   "metadata": {
    "collapsed": false
   },
   "outputs": [
    {
     "data": {
      "text/plain": [
       "[<matplotlib.lines.Line2D at 0x1eb47f12470>]"
      ]
     },
     "execution_count": 23,
     "metadata": {},
     "output_type": "execute_result"
    },
    {
     "data": {
      "image/png": "[encoded data removed]",
      "text/plain": [
       "<matplotlib.figure.Figure at 0x1eb46c331d0>"
      ]
     },
     "metadata": {},
     "output_type": "display_data"
    }
   ],
   "source": [
    "Pt,c,f = 0, 299792458, 2.4e9\n",
    "\n",
    "r = arange(0.4,30,0.1)\n",
    "\n",
    "Pr = Pt + 20 * log10( c / ( 4*pi*f*r) )\n",
    "\n",
    "plot(Pr)"
   ]
  },
  {
   "cell_type": "markdown",
   "metadata": {},
   "source": [
    "### b\n",
    "\n",
    "\\begin{align}\n",
    "P_r &= P_t + 20 \\times ^{10}\\log \\left( \\frac{c}{4\\pi f r} \\right) \\\\\n",
    "\\frac{P_r - P_t} { 20} &= ^{10}\\log \\left( \\frac{c}{4\\pi f r} \\right) \\\\\n",
    "10 ^ { \\frac{P_r - P_t} { 20} } &= \\frac{c}{4\\pi f r} \\\\\n",
    "10 ^ { \\frac{P_r - P_t} { 20} } \\frac{4\\pi f}{c} &= \\frac{1}{r} \\\\\n",
    "r &= \\frac{c}{4\\pi f} 10^{ (P_t - P_r) / -20}\n",
    "\\end{align}\n",
    "\n",
    "### c"
   ]
  },
  {
   "cell_type": "code",
   "execution_count": 24,
   "metadata": {
    "collapsed": false
   },
   "outputs": [
    {
     "name": "stdout",
     "output_type": "stream",
     "text": [
      "3.4184176042559257e-05\n",
      "1.0809985623064794e-06\n"
     ]
    }
   ],
   "source": [
    "def i(Pr,Pt=0):\n",
    "    return c/(4*pi*f) * 10**((Pt - Pr)/-20)\n",
    "\n",
    "print( i(-30) - i(-31) )\n",
    "\n",
    "print( i(-60) - i(-61) )"
   ]
  },
  {
   "cell_type": "markdown",
   "metadata": {},
   "source": [
    "### d\n",
    "As seen from the results of (c), the more negative the signal strength, the smaller the error becomes. This is intuatively correct, as the result of $P_t-P_r$ becomes larger, ten to the power of negative this number becomes a smaller number. It can also be seen from the plot of (a), as the slope gets flatter, the bigger the distance.\n",
    "\n",
    "## 0.3\n",
    "### e"
   ]
  },
  {
   "cell_type": "code",
   "execution_count": 25,
   "metadata": {
    "collapsed": false
   },
   "outputs": [
    {
     "name": "stdout",
     "output_type": "stream",
     "text": [
      "As seen in this plot, the circles don't actually overlap on the\n",
      "means, however, the overlap will be somewhere inside the margins of the uncertenties\n"
     ]
    },
    {
     "data": {
      "image/png": "[encoded data removed]",
      "text/plain": [
       "<matplotlib.figure.Figure at 0x1eb47f12f60>"
      ]
     },
     "metadata": {},
     "output_type": "display_data"
    }
   ],
   "source": [
    "# 3 points with ( (x,y), distance, uncertanty, colour)\n",
    "ps = [ ( (1,1), 0.7, 0.1, 'r'), ( (1,0), 0.7, 0.1, 'b'), ( (0,1), 0.7, 0.1, 'g') ]\n",
    "\n",
    "ax = gcf().gca()\n",
    "for p in ps:\n",
    "    ax.add_artist(Circle( p[0], p[1], color=p[3], alpha=0.1))\n",
    "    ax.add_artist(Circle( p[0], p[1]-p[2], color=p[3], alpha=0.1, fill=False))\n",
    "    ax.add_artist(Circle( p[0], p[1]+p[2], color=p[3], alpha=0.1, fill=False))\n",
    "\n",
    "print(\"As seen in this plot, the circles don't actually overlap on the\\n\\\n",
    "means, however, the overlap will be somewhere inside the margins of the uncertenties\")"
   ]
  },
  {
   "cell_type": "markdown",
   "metadata": {},
   "source": [
    "### f\n",
    "\n",
    "\\begin{align}\n",
    "P_r^i(x,y) &= P_t + 20 \\times ^{10}\\log \\left( \\frac{c}{4\\pi f r} \\right) \\\\\n",
    "&= P_t + 20 \\times ^{10}\\log \\left( \\frac{c}{4\\pi f} \\right) + 20 \\times ^{10}\\log \\frac1r \\\\\n",
    "&= P_t + 20 \\times ^{10}\\log \\left( \\frac{c}{4\\pi f} \\right) + 20 \\times ^{10}\\log \\frac1r \\\\\n",
    "&= P_t + 20 \\times ^{10}\\log \\left( \\frac{c}{4\\pi f} \\right) - 20 \\times ^{10}\\log r \\\\\n",
    "&= P_t + 20 \\times ^{10}\\log \\left( \\frac{c}{4\\pi f} \\right) - 20 \\times ^{10}\\log \\sqrt{ (x-x_i)^2 + (y-y_i)^2 + Z^2) } \\\\\n",
    "&= P_t + 20 \\times ^{10}\\log \\left( \\frac{c}{4\\pi f} \\right) - 10 \\times ^{10}\\log \\left( (x-x_i)^2 + (y-y_i)^2 + Z^2) \\right) \n",
    "\\end{align}\n",
    "\n",
    "### g"
   ]
  },
  {
   "cell_type": "code",
   "execution_count": 28,
   "metadata": {
    "collapsed": false
   },
   "outputs": [
    {
     "name": "stdout",
     "output_type": "stream",
     "text": [
      "The shown distribution has a mean of ~0 and a std of ~1\n"
     ]
    },
    {
     "data": {
      "image/png": "[encoded data removed]",
      "text/plain": [
       "<matplotlib.figure.Figure at 0x1eb46d1c278>"
      ]
     },
     "metadata": {},
     "output_type": "display_data"
    }
   ],
   "source": [
    "Z = 2\n",
    "x,y = 20,0\n",
    "xi,yi = 0,0\n",
    "Pt = 0\n",
    "\n",
    "packets = Pt+20*log10(c/(4*pi*f)) - 10 * log10( (x-xi)**2 + (y-yi)**2 + Z**2) + random.normal(0,1,1000)\n",
    "expect = Pt+20*log10(c/(4*pi*f)) - 10 * log10( (x-xi)**2 + (y-yi)**2 + Z**2)\n",
    "\n",
    "ax = hist( (packets - expect) / 1 )\n",
    "\n",
    "print( \"The shown distribution has a mean of ~0 and a std of ~1\")"
   ]
  },
  {
   "cell_type": "code",
   "execution_count": 36,
   "metadata": {
    "collapsed": false
   },
   "outputs": [
    {
     "name": "stdout",
     "output_type": "stream",
     "text": [
      "Underestimating the noise increases the std of the pull distribution.\n",
      " Overestimating on the contrairy reduces the std. Mean stays the same in both occations\n"
     ]
    },
    {
     "data": {
      "image/png": "[encoded data removed]",
      "text/plain": [
       "<matplotlib.figure.Figure at 0x1eb481fea58>"
      ]
     },
     "metadata": {},
     "output_type": "display_data"
    }
   ],
   "source": [
    "##h\n",
    "\n",
    "packets = Pt+20*log10(c/(4*pi*f)) - 10 * log10( (x-xi)**2 + (y-yi)**2 + Z**2) + random.normal(0,1,1000)\n",
    "expect = Pt+20*log10(c/(4*pi*f)) - 10 * log10( (x-xi)**2 + (y-yi)**2 + Z**2)\n",
    "\n",
    "ax = hist( (packets - expect) / 1 )\n",
    "\n",
    "print( \"Underestimating the noise increases the std of the pull distribution.\\n \\\n",
    "Overestimating on the contrairy reduces the std. Mean stays the same in both occations\")"
   ]
  },
  {
   "cell_type": "code",
   "execution_count": 34,
   "metadata": {
    "collapsed": false
   },
   "outputs": [
    {
     "name": "stdout",
     "output_type": "stream",
     "text": [
      "In this case the mean of the error is no longer zero.\n"
     ]
    },
    {
     "data": {
      "image/png": "[encoded data removed]",
      "text/plain": [
       "<matplotlib.figure.Figure at 0x1eb47f59630>"
      ]
     },
     "metadata": {},
     "output_type": "display_data"
    }
   ],
   "source": [
    "##i\n",
    "\n",
    "packets = Pt+25*log10(c/(4*pi*f)) - 12.5 * log10( (x-xi)**2 + (y-yi)**2 + Z**2) + random.normal(0,1,1000)\n",
    "expect = Pt+20*log10(c/(4*pi*f)) - 10 * log10( (x-xi)**2 + (y-yi)**2 + Z**2)\n",
    "\n",
    "ax = hist( (packets - expect) / 1 )\n",
    "\n",
    "print( \"In this case the mean of the error is no longer zero.\")\n"
   ]
  },
  {
   "cell_type": "markdown",
   "metadata": {},
   "source": [
    "### j\n",
    "Seen from these experiments, a pull distribution should have a mean of 0 and a std of your estimated std. Once this is the case, the model is correctly built for the data"
   ]
  },
  {
   "cell_type": "code",
   "execution_count": null,
   "metadata": {
    "collapsed": true
   },
   "outputs": [],
   "source": []
  }
 ],
 "metadata": {
  "kernelspec": {
   "display_name": "Python 3",
   "language": "python",
   "name": "python3"
  },
  "language_info": {
   "codemirror_mode": {
    "name": "ipython",
    "version": 3
   },
   "file_extension": ".py",
   "mimetype": "text/x-python",
   "name": "python",
   "nbconvert_exporter": "python",
   "pygments_lexer": "ipython3",
   "version": "3.5.1"
  }
 },
 "nbformat": 4,
 "nbformat_minor": 0
}
