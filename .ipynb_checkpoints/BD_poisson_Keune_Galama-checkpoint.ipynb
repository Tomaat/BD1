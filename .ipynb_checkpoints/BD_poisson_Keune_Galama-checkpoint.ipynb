{
 "cells": [
  {
   "cell_type": "markdown",
   "metadata": {},
   "source": [
    "## Applied Mechanisms and Big Data\n",
    "### Assignment 2: Poisson\n",
    "##### Ysbrand Galama, 10262067\n",
    "##### Koen Keune, 10003527"
   ]
  },
  {
   "cell_type": "code",
   "execution_count": 9,
   "metadata": {
    "collapsed": false
   },
   "outputs": [
    {
     "name": "stdout",
     "output_type": "stream",
     "text": [
      "Populating the interactive namespace from numpy and matplotlib\n"
     ]
    }
   ],
   "source": [
    "%pylab inline\n",
    "from scipy.misc import factorial as sp_factorial"
   ]
  },
  {
   "cell_type": "markdown",
   "metadata": {},
   "source": [
    "## 0.1\n",
    "### a\n",
    "\n",
    "\\begin{align}\n",
    "P(\\text{no one arrives}) = 1 - p \\Delta t \\\\\n",
    "\\end{align}\n",
    "\n",
    "### b\n",
    "\n",
    "\\begin{align}\n",
    "P(n| t+\\Delta t, t_0) = P(n-1| t, t_0) p \\Delta t + P(n| t, t_0) (1 - p \\Delta t)\n",
    "\\end{align}\n",
    "\n",
    "### c\n",
    "\n",
    "\\begin{align}\n",
    "\\frac{\\partial P(n|t + \\Delta t,t_0)}{\\partial t} =& \\frac\\partial{\\partial t} P(n-1| t, t_0) p \\Delta t + P(n| t, t_0) (1 - p) \\Delta t \\\\\n",
    "=& \\frac\\partial{\\partial t} P(n-1| t, t_0) p \\Delta t +\\underbrace{ P(n| t, t_0)\\cdot 1}_\\text{const. w.r.t. $t$} - P(n| t, t_0) p \\Delta t \\\\\n",
    "=& P(n-1| t, t_0) p - P(n| t, t_0) p \\\\\n",
    "=& -pP(n|t,t_0) + pP(n-1|t,t_0)\n",
    "\\end{align}\n",
    "\n",
    "### d\n",
    "\n",
    "\\begin{align}\n",
    "\\frac{\\partial P(0|t + \\Delta t,t_0)}{\\partial t} \\overbrace{=}^\\text{from c}& -pP(0|t,t_0) + \\underbrace{pP(0-1|t,t_0)}_{=0} \\\\\n",
    "=& -pP(0|t,t_0)\n",
    "\\end{align}\n",
    "\n",
    "### e\n",
    "\n",
    "Given $\\sum^\\infty_{n=0} P(n|t,t_0) = 1$ and $P(n|t,t_0)=A_n(t)e^{-p(t-t_0)}$:\n",
    "\\begin{align}\n",
    "\\sum^\\infty_{n=0} A_n(t)e^{-p(t-t_0)} =& 1 \\\\\n",
    "\\sum^\\infty_{n=0} A_n(t) =& e^{p(t-t_0)} \\\\\n",
    "\\sum^\\infty_{n=0} A_n(t) =& \\underbrace{\\sum^\\infty_{n=0}\\frac{(p(t-t_0))^n}{n!} }_\\text{definition of $e^x$} \\\\\n",
    "A_n(t) =& \\frac{(p(t-t_0))^n}{n!} \\\\[2pc]\n",
    "P(n|t,t_0)=& A_n(t)e^{-p(t-t_0)} \\\\\n",
    "=& \\frac{(p(t-t_0))^n}{n!}e^{-p(t-t_0)}\n",
    "\\end{align}\n",
    "\n",
    "### f\n",
    "\n",
    "Using above:\n",
    "\\begin{align}\n",
    "\\mathbb{E}[n] = \\sum^\\infty_{n=0} nP(n|t,t_0) = \\sum^\\infty_{n=0} n \\frac{(p(t-t_0))^n}{n!}e^{-p(t-t_0)}\n",
    "\\end{align}\n",
    "\n",
    "### g\n",
    "\n",
    "most likely visitors is:\n",
    "\\[ max( \\frac{(p(t-t_0))^n}{n!}e^{-p(t-t_0)} ) \\]\n",
    "thus:\n",
    "\\begin{align}\n",
    "\\frac\\partial{\\partial n} \\frac{(p(t-t_0))^n}{n!}e^{-p(t-t_0)} &= 0 \\\\\n",
    "\n",
    "\\end{align}"
   ]
  },
  {
   "cell_type": "code",
   "execution_count": 17,
   "metadata": {
    "collapsed": false
   },
   "outputs": [
    {
     "name": "stderr",
     "output_type": "stream",
     "text": [
      "C:\\Anaconda3\\lib\\site-packages\\ipykernel\\__main__.py:2: RuntimeWarning: overflow encountered in power\n",
      "  from ipykernel import kernelapp as app\n",
      "C:\\Anaconda3\\lib\\site-packages\\ipykernel\\__main__.py:2: RuntimeWarning: invalid value encountered in true_divide\n",
      "  from ipykernel import kernelapp as app\n"
     ]
    },
    {
     "data": {
      "text/plain": [
       "[<matplotlib.lines.Line2D at 0x1d7796a4f98>]"
      ]
     },
     "execution_count": 17,
     "metadata": {},
     "output_type": "execute_result"
    },
    {
     "data": {
      "image/png": "[encoded data removed]",
      "text/plain": [
       "<matplotlib.figure.Figure at 0x1d7796633c8>"
      ]
     },
     "metadata": {},
     "output_type": "display_data"
    }
   ],
   "source": [
    "def P(n,t,t0,p):\n",
    "    return (p*(t-t0))**n/sp_factorial(n)*exp(-p*(t-t0))\n",
    "\n"
   ]
  },
  {
   "cell_type": "code",
   "execution_count": null,
   "metadata": {
    "collapsed": true
   },
   "outputs": [],
   "source": []
  }
 ],
 "metadata": {
  "kernelspec": {
   "display_name": "Python [Root]",
   "language": "python",
   "name": "Python [Root]"
  },
  "language_info": {
   "codemirror_mode": {
    "name": "ipython",
    "version": 3
   },
   "file_extension": ".py",
   "mimetype": "text/x-python",
   "name": "python",
   "nbconvert_exporter": "python",
   "pygments_lexer": "ipython3",
   "version": "3.5.2"
  }
 },
 "nbformat": 4,
 "nbformat_minor": 0
}
