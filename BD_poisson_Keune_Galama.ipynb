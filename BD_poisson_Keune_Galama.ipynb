{
 "cells": [
  {
   "cell_type": "markdown",
   "metadata": {},
   "source": [
    "## Applied Mechanisms and Big Data\n",
    "### Assignment 2: Poisson\n",
    "##### Ysbrand Galama, 10262067\n",
    "##### Koen Keune, 10003527"
   ]
  },
  {
   "cell_type": "code",
   "execution_count": 26,
   "metadata": {
    "collapsed": false
   },
   "outputs": [
    {
     "name": "stdout",
     "output_type": "stream",
     "text": [
      "Populating the interactive namespace from numpy and matplotlib\n"
     ]
    },
    {
     "name": "stderr",
     "output_type": "stream",
     "text": [
      "WARNING: pylab import has clobbered these variables: ['poisson']\n",
      "`%matplotlib` prevents importing * from pylab and numpy\n"
     ]
    }
   ],
   "source": [
    "%pylab inline\n",
    "from scipy.misc import factorial\n",
    "from scipy.stats import poisson\n",
    "from time import time\n",
    "seed(1)"
   ]
  },
  {
   "cell_type": "markdown",
   "metadata": {},
   "source": [
    "## 0.1\n",
    "### a\n",
    "\n",
    "\\begin{align}\n",
    "P(\\text{no one arrives}) = 1 - p \\Delta t \\\\\n",
    "\\end{align}\n",
    "\n",
    "### b\n",
    "\n",
    "\\begin{align}\n",
    "P(n| t+\\Delta t, t_0) = P(n-1| t, t_0) p \\Delta t + P(n| t, t_0) (1 - p \\Delta t)\n",
    "\\end{align}\n",
    "\n",
    "### c\n",
    "\n",
    "\\begin{align}\n",
    "\\frac{\\partial P(n|t + \\Delta t,t_0)}{\\partial t} =& \\frac\\partial{\\partial t} P(n-1| t, t_0) p \\Delta t + P(n| t, t_0) (1 - p) \\Delta t \\\\\n",
    "=& \\frac\\partial{\\partial t} P(n-1| t, t_0) p \\Delta t +\\underbrace{ P(n| t, t_0)\\cdot 1}_\\text{const. w.r.t. $t$} - P(n| t, t_0) p \\Delta t \\\\\n",
    "=& P(n-1| t, t_0) p - P(n| t, t_0) p \\\\\n",
    "=& -pP(n|t,t_0) + pP(n-1|t,t_0)\n",
    "\\end{align}\n",
    "\n",
    "### d\n",
    "\n",
    "\\begin{align}\n",
    "\\frac{\\partial P(0|t + \\Delta t,t_0)}{\\partial t} \\overbrace{=}^\\text{from c}& -pP(0|t,t_0) + \\underbrace{pP(0-1|t,t_0)}_{=0} \\\\\n",
    "=& -pP(0|t,t_0)\n",
    "\\end{align}\n",
    "\n",
    "### e\n",
    "\n",
    "Given $\\sum^\\infty_{n=0} P(n|t,t_0) = 1$ and $P(n|t,t_0)=A_n(t)e^{-p(t-t_0)}$:\n",
    "\\begin{align}\n",
    "\\sum^\\infty_{n=0} A_n(t)e^{-p(t-t_0)} =& 1 \\\\\n",
    "\\sum^\\infty_{n=0} A_n(t) =& e^{p(t-t_0)} \\\\\n",
    "\\sum^\\infty_{n=0} A_n(t) =& \\underbrace{\\sum^\\infty_{n=0}\\frac{(p(t-t_0))^n}{n!} }_\\text{definition of $e^x$} \\\\\n",
    "A_n(t) =& \\frac{(p(t-t_0))^n}{n!} \\\\[2pc]\n",
    "P(n|t,t_0)=& A_n(t)e^{-p(t-t_0)} \\\\\n",
    "=& \\frac{(p(t-t_0))^n}{n!}e^{-p(t-t_0)}\n",
    "\\end{align}\n",
    "\n",
    "### f\n",
    "\n",
    "Using above:\n",
    "\\begin{align}\n",
    "\\mathbb{E}[n] = \\sum^\\infty_{n=0} nP(n|t,t_0) = \\sum^\\infty_{n=0} n \\frac{(p(t-t_0))^n}{n!}e^{-p(t-t_0)}\n",
    "\\end{align}\n",
    "\n",
    "### g\n",
    "\n",
    "most likely visitors is:\n",
    "\\begin{align}\n",
    "P(n|t,t_0) &> P(n-1|t,t_0) \\\\\n",
    "\\frac{(p(t-t_0))^n}{n!}e^{-p(t-t_0)} &> \\frac{(p(t-t_0))^{n-1}}{(n-1)!}e^{-p(t-t_0)} \\\\\n",
    "\\frac{(p(t-t_0))^n}{n!}&> \\frac{(p(t-t_0))^{n-1}}{(n-1)!} \\\\\n",
    "\\frac{(p(t-t_0))^(n-1)\\cdot p(t-t_0)}{(n-1)!\\cdot n}&> \\frac{(p(t-t_0))^{n-1}}{(n-1)!} \\\\\n",
    "\\frac{p(t-t_0)}{n}&> 1 \\\\\n",
    "p(t-t_0) &> n \\\\[2pc]\n",
    "P(n|t,t_0) &> P(n+1|t,t_0) \\\\\n",
    "\\frac{(p(t-t_0))^n}{n!}e^{-p(t-t_0)} &> \\frac{(p(t-t_0))^{n+1}}{(n+1)!}e^{-p(t-t_0)} \\\\\n",
    "\\frac{(p(t-t_0))^n}{n!}&> \\frac{(p(t-t_0))^{n+1}}{(n+1)!} \\\\\n",
    "\\frac{(p(t-t_0))^n}{n!}&> \\frac{(p(t-t_0))^n\\cdot p(t-t_0)}{n!\\cdot (n+1)} \\\\\n",
    "1 &> \\frac{p(t-t_0)}{n+1} \\\\\n",
    "n+1 &> p(t-t_0) \\\\\n",
    "n &> p(t-t_0)-1 \\\\[2pc]\n",
    "p(t-t_0)-1 &< n < p(t-t_0) \\\\\n",
    "\\end{align}\n",
    "So we can find the maximum for $P(n|t,t_0)$ if $p(t-t_0)-1 \\leq n \\leq p(t-t_0)$ for discrete values of $n$.\n",
    "\n",
    "### h"
   ]
  },
  {
   "cell_type": "code",
   "execution_count": 37,
   "metadata": {
    "collapsed": false
   },
   "outputs": [
    {
     "data": {
      "text/plain": [
       "<matplotlib.text.Text at 0x182460a8c50>"
      ]
     },
     "execution_count": 37,
     "metadata": {},
     "output_type": "execute_result"
    },
    {
     "data": {
      "image/png": "[encoded data removed]",
      "text/plain": [
       "<matplotlib.figure.Figure at 0x1822d252358>"
      ]
     },
     "metadata": {},
     "output_type": "display_data"
    }
   ],
   "source": [
    "#def P(n,t,t0,p):\n",
    "#    return (p*(t-t0))**n/factorial(n)*exp(-p*(t-t0))\n",
    "\n",
    "p = 0.5 #v/m\n",
    "start = time()\n",
    "n = np.zeros((10000,1))\n",
    "dt = 1 #min\n",
    "for i in arange(0,60,dt):\n",
    "    n += random.uniform(size=n.shape) < p*dt\n",
    "end = time()\n",
    "\n",
    "hist(n)\n",
    "title('histogram of simulated visitors (in %.3f sec)'%(end-start))\n",
    "xlabel('# visitors')\n",
    "ylabel('count')"
   ]
  },
  {
   "cell_type": "markdown",
   "metadata": {},
   "source": [
    "### i"
   ]
  },
  {
   "cell_type": "code",
   "execution_count": 39,
   "metadata": {
    "collapsed": false
   },
   "outputs": [
    {
     "data": {
      "text/plain": [
       "[<matplotlib.lines.Line2D at 0x18246263160>]"
      ]
     },
     "execution_count": 39,
     "metadata": {},
     "output_type": "execute_result"
    },
    {
     "data": {
      "image/png": "[encoded data removed]",
      "text/plain": [
       "<matplotlib.figure.Figure at 0x182461d9fd0>"
      ]
     },
     "metadata": {},
     "output_type": "display_data"
    }
   ],
   "source": [
    "p = 0.5 #v/m\n",
    "start = time()\n",
    "n = np.zeros((10000,1))\n",
    "dt = 1/60\n",
    "for i in arange(0,60,dt):\n",
    "    n += random.uniform(size=n.shape) < p*dt\n",
    "end = time()\n",
    "hist(n)\n",
    "title('histogram of simulated visitors (in %.3f sec)'%(end-start))\n",
    "xlabel('# visitors')\n",
    "ylabel('count')\n",
    "\n",
    "x = linspace( *(xlim()+(100,)) )\n",
    "mu = ceil(p*(60-0))\n",
    "y = exp(-mu) * mu**x / factorial(x)\n",
    "plot(x,y*3000/0.07)"
   ]
  },
  {
   "cell_type": "markdown",
   "metadata": {},
   "source": [
    "The first distribution shows a less accurate representation. This is logical as the amount of simulations is a lot smaller. In the second distribution there is more time to ballance the chances.\n",
    "\n",
    "### j\n",
    "$$P(expecting\\;n^{th}) = P(n-1\\; at\\; t\\; AND\\; arival) = P(n-1|t,t_0) pdt = dt\\frac{p(p(t-t_0))^{n-1}e^{-p(t-t_0)}}{(n-1)!} = dtP(t|n,t_0)$$\n",
    "\n",
    "### k\n",
    "\\begin{align}\n",
    "\\mathbb{E}[t] =& \\int_{t_0}^\\infty tpe^{-p(t-t_0)}dt \\\\\n",
    "=& p\\int_{t_0}^\\infty te^{-pt}e^{pt_0}dt \\\\\n",
    "=& pe^{pt_0}\\int_{t_0}^\\infty te^{-pt}dt \\\\\n",
    "=& pe^{pt_0}\\left( \\left[\\frac{t}{-p}e^{-pt}\\right]^\\infty_{t_0} -\\int_{t_0}^\\infty \\frac1{-p}e^{-pt}dt \\right)\\\\\n",
    "=& \\left[ pe^{pt_0}\\left( \\frac{t}{-p}e^{-pt} - \\frac1{p^2}e^{-pt}  \\right) \\right]^\\infty_{t_0}\\\\\n",
    "=& \\left[ -te^{-p(t-t_0)} - \\frac1pe^{-p(t-t_0)} \\right]^\\infty_{t_0} \\\\\n",
    "=& \\left[ \\left(-t - \\frac1p\\right)e^{-p(t-t_0)} \\right]^\\infty_{t_0} \\\\\n",
    "=& \\lim_{x\\rightarrow\\infty} \\left[ \\left(-t - \\frac1p\\right)e^{-p(t-t_0)} \\right]^x_{t_0} \\\\\n",
    "=& \\left(\\lim_{x\\rightarrow\\infty} \\left(-x - \\frac1p\\right)e^{-p(x-t_0)}\\right) - \\left(-t_0 - \\frac1p\\right)e^{-p(t_0-t_0)} \\\\\n",
    "=& 0 - \\left( -t_0 - \\frac1p\\right) \\cdot 1 \\\\\n",
    "=& t_0 + \\frac1p\n",
    "\\end{align}\n",
    "Thus the average time for the first visitor is $t_0 + \\frac1p$\n",
    "\n",
    "### l\n",
    "\\begin{align}\n",
    "P(t_1|1,t_0)\\cdot P(t_2|1,t_1) &\\\\\n",
    "\\int^{t_2}_{t_0} P(t|1,t_0)\\cdot P(t_2|1,t)dt =& \\int^{t_2}_{t_0}pe^{-p(t-t_0)}pe^{-p(t_2-t)}dt \\\\\n",
    "=& \\int^{t_2}_{t_0}p^2e^{-p(t-t_0+t_2-t)}dt \\\\\n",
    "=& \\int^{t_2}_{t_0}p^2e^{-p(t_2-t_0)}dt \\\\\n",
    "=& p^2e^{-p(t_2-t_0)}\\int^{t_2}_{t_0}dt \\\\\n",
    "=& p^2(t_2-t_0)e^{-p(t_2-t_0)} \\\\\n",
    "=& \\frac{p(p(t_2-t_0))^{2-1}e^{-p(t_2-t_0)}}{(2-1)!} \\\\\n",
    "=& P(t_2|2,t_0) & q.e.d.\n",
    "\\end{align}\n",
    "\n",
    "### m"
   ]
  },
  {
   "cell_type": "code",
   "execution_count": 36,
   "metadata": {
    "collapsed": false
   },
   "outputs": [
    {
     "data": {
      "text/plain": [
       "<matplotlib.text.Text at 0x182460849b0>"
      ]
     },
     "execution_count": 36,
     "metadata": {},
     "output_type": "execute_result"
    },
    {
     "data": {
      "image/png": "[encoded data removed]",
      "text/plain": [
       "<matplotlib.figure.Figure at 0x18244bc47f0>"
      ]
     },
     "metadata": {},
     "output_type": "display_data"
    }
   ],
   "source": [
    "p = 0.5 #v/m\n",
    "start = time()\n",
    "t = zeros((1,10000),dtype=float) #min\n",
    "n = -ones((1,10000),dtype=int) #v\n",
    "lt = zeros((1,10000),dtype=float) #min\n",
    "while any(t < 60):\n",
    "    r = random.uniform(size=n.shape)\n",
    "    tt = log(r/p)/-p\n",
    "    b = logical_and(tt > 0 , t < 60)\n",
    "    n[b] += 1\n",
    "    t[b] += tt[b]\n",
    "end = time()\n",
    "\n",
    "hist(n[0])\n",
    "title('histogram of simulated visitors (in %.3f sec)'%(end-start))\n",
    "xlabel('# visitors')\n",
    "ylabel('count')"
   ]
  },
  {
   "cell_type": "markdown",
   "metadata": {},
   "source": [
    "There is not much difference between this distribution and the second one. Both follow the poisson reasonable. A difference is the time it took to calculate the third one is more in the same ballpark as the first one, which did not have a satisfiable result.\n",
    "\n",
    "### n"
   ]
  },
  {
   "cell_type": "code",
   "execution_count": null,
   "metadata": {
    "collapsed": true
   },
   "outputs": [],
   "source": []
  }
 ],
 "metadata": {
  "anaconda-cloud": {},
  "kernelspec": {
   "display_name": "Python [Root]",
   "language": "python",
   "name": "Python [Root]"
  },
  "language_info": {
   "codemirror_mode": {
    "name": "ipython",
    "version": 3
   },
   "file_extension": ".py",
   "mimetype": "text/x-python",
   "name": "python",
   "nbconvert_exporter": "python",
   "pygments_lexer": "ipython3",
   "version": "3.5.2"
  }
 },
 "nbformat": 4,
 "nbformat_minor": 0
}
