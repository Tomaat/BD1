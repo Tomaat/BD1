{
 "cells": [
  {
   "cell_type": "markdown",
   "metadata": {},
   "source": [
    "## Applied Mechanisms and Big Data\n",
    "### Assignment 2: Poisson\n",
    "##### Ysbrand Galama, 10262067\n",
    "##### Koen Keune, 10003527"
   ]
  },
  {
   "cell_type": "markdown",
   "metadata": {},
   "source": [
    "## 0.1\n",
    "### a"
   ]
  },
  {
   "cell_type": "markdown",
   "metadata": {},
   "source": [
    "\\begin{align}\n",
    "\\text{prob no one arrives: } 1 - p \\Delta t \\\\\n",
    "\\end{align}"
   ]
  },
  {
   "cell_type": "markdown",
   "metadata": {},
   "source": [
    "### b"
   ]
  },
  {
   "cell_type": "markdown",
   "metadata": {},
   "source": [
    "\\begin{align}\n",
    "P(n, t+\\Delta t, t_0) = P(n-1, t, t_0) P(n, t+\\Delta t, t_0) + P(n, t, t_0) P(n, t+\\Delta t, t_0)\n",
    "\\end{align}"
   ]
  },
  {
   "cell_type": "markdown",
   "metadata": {},
   "source": [
    "### c"
   ]
  },
  {
   "cell_type": "markdown",
   "metadata": {},
   "source": [
    "\\begin{align}\n",
    "P(n, t+\\Delta t, t_0) = P(n-1, t, t_0) P(n, t+\\Delta t, t_0) + P(n, t, t_0) P(n, t+\\Delta t, t_0) \\Leftrightarrow \\\\\n",
    "P(n, t+\\Delta t, t_0) = P(n, t+\\Delta t, t_0) ( P(n-1, t, t_0) + P(n, t, t_0) ) \\Leftrightarrow \\\\\n",
    "\n",
    "\\end{align}"
   ]
  },
  {
   "cell_type": "code",
   "execution_count": null,
   "metadata": {
    "collapsed": true
   },
   "outputs": [],
   "source": []
  }
 ],
 "metadata": {
  "kernelspec": {
   "display_name": "Python [Root]",
   "language": "python",
   "name": "Python [Root]"
  },
  "language_info": {
   "codemirror_mode": {
    "name": "ipython",
    "version": 3
   },
   "file_extension": ".py",
   "mimetype": "text/x-python",
   "name": "python",
   "nbconvert_exporter": "python",
   "pygments_lexer": "ipython3",
   "version": "3.5.2"
  }
 },
 "nbformat": 4,
 "nbformat_minor": 0
}
